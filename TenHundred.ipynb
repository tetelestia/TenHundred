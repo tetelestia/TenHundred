{
 "cells": [
  {
   "cell_type": "code",
   "execution_count": 2,
   "metadata": {
    "collapsed": true
   },
   "outputs": [],
   "source": []
  },
  {
   "cell_type": "code",
   "execution_count": 41,
   "metadata": {
    "collapsed": false
   },
   "outputs": [
    {
     "name": "stdout",
     "output_type": "stream",
     "text": [
      "Here , FAIL FAIL is the number of FAIL to be read from the FAIL FAIL. This FAIL FAIL FAIL from the FAIL of the FAIL and if FAIL is FAIL , then it FAIL to read as much as possible , maybe until the end of FAIL.\n",
      "['passed', 'parameter', 'bytes', 'opened', 'file', 'method', 'starts', 'reading', 'beginning', 'count', 'missing', 'tries']\n"
     ]
    }
   ],
   "source": [
    "import re\n",
    "import csv\n",
    "\n",
    "with open(\"input_text.txt\", \"r\") as inputFile:\n",
    "    input_text=inputFile.read()\n",
    "inputFile.close()\n",
    "\n",
    "with open(\"Ten_Hundred_Dict.txt\") as dictFile:\n",
    "    ten_dict = dictFile.readlines()\n",
    "dictFile.close()\n",
    "ten_dict = [s.strip() for s in ten_dict]\n",
    "\n",
    "translation_dict=[[],[]]\n",
    "with open('Ten_Hundred_Translation.csv', 'rb') as csvFile:\n",
    "    reader = csv.reader(csvFile, delimiter='\\t')\n",
    "    reader.next()\n",
    "    for row in reader:\n",
    "        translation_dict[0].append(row[0])\n",
    "        translation_dict[1].append(row[1])\n",
    "csvFile.close()\n",
    "\n",
    "input_text = re.findall(r\"[\\w']+|[.,!?;:]\", input_text)\n",
    "\n",
    "output_text = []\n",
    "invalid_words = []\n",
    "for word in input_text:\n",
    "    if word.lower() in ten_dict:\n",
    "        output_text.append(word)\n",
    "    else:\n",
    "        try:\n",
    "            index_pos = translation_dict[0].index(word.lower())\n",
    "            output_text.append(translation_dict[1][index_pos])\n",
    "        except:\n",
    "            output_text.append(\"FAIL\")\n",
    "            if word.lower() not in invalid_words:\n",
    "                invalid_words.append(word.lower())\n",
    "\n",
    "\n",
    "output_text = ' '.join(output_text)\n",
    "output_text = re.sub(r'\\s([?.!\":](?:\\s|$))', r'\\1', output_text)\n",
    "\n",
    "fo = open(\"output_text.txt\", \"wb\")\n",
    "fo.write(\"Invalid words: \")\n",
    "fo.write(\" \".join(invalid_words))\n",
    "fo.write(\"\\n\\n\")\n",
    "fo.write(output_text)\n",
    "fo.close()"
   ]
  },
  {
   "cell_type": "code",
   "execution_count": null,
   "metadata": {
    "collapsed": false
   },
   "outputs": [],
   "source": []
  },
  {
   "cell_type": "code",
   "execution_count": null,
   "metadata": {
    "collapsed": true
   },
   "outputs": [],
   "source": []
  }
 ],
 "metadata": {
  "kernelspec": {
   "display_name": "Python 2",
   "language": "python",
   "name": "python2"
  },
  "language_info": {
   "codemirror_mode": {
    "name": "ipython",
    "version": 2
   },
   "file_extension": ".py",
   "mimetype": "text/x-python",
   "name": "python",
   "nbconvert_exporter": "python",
   "pygments_lexer": "ipython2",
   "version": "2.7.10"
  }
 },
 "nbformat": 4,
 "nbformat_minor": 0
}
